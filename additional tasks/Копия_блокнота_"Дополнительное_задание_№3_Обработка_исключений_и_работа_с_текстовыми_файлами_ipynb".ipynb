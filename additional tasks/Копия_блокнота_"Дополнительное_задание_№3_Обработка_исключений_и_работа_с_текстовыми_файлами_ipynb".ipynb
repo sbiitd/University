{
  "cells": [
    {
      "cell_type": "markdown",
      "metadata": {
        "id": "view-in-github",
        "colab_type": "text"
      },
      "source": [
        "<a href=\"https://colab.research.google.com/github/sbiitd/University/blob/main/additional%20tasks/%D0%9A%D0%BE%D0%BF%D0%B8%D1%8F_%D0%B1%D0%BB%D0%BE%D0%BA%D0%BD%D0%BE%D1%82%D0%B0_%22%D0%94%D0%BE%D0%BF%D0%BE%D0%BB%D0%BD%D0%B8%D1%82%D0%B5%D0%BB%D1%8C%D0%BD%D0%BE%D0%B5_%D0%B7%D0%B0%D0%B4%D0%B0%D0%BD%D0%B8%D0%B5_%E2%84%963_%D0%9E%D0%B1%D1%80%D0%B0%D0%B1%D0%BE%D1%82%D0%BA%D0%B0_%D0%B8%D1%81%D0%BA%D0%BB%D1%8E%D1%87%D0%B5%D0%BD%D0%B8%D0%B9_%D0%B8_%D1%80%D0%B0%D0%B1%D0%BE%D1%82%D0%B0_%D1%81_%D1%82%D0%B5%D0%BA%D1%81%D1%82%D0%BE%D0%B2%D1%8B%D0%BC%D0%B8_%D1%84%D0%B0%D0%B9%D0%BB%D0%B0%D0%BC%D0%B8_ipynb%22.ipynb\" target=\"_parent\"><img src=\"https://colab.research.google.com/assets/colab-badge.svg\" alt=\"Open In Colab\"/></a>"
      ]
    },
    {
      "cell_type": "markdown",
      "id": "bb332bf9",
      "metadata": {
        "id": "bb332bf9"
      },
      "source": [
        "# **Дополнительное задание №3. Обработка исключений и работа с текстовыми файлами**"
      ]
    },
    {
      "cell_type": "markdown",
      "id": "aa6808db",
      "metadata": {
        "id": "aa6808db"
      },
      "source": [
        "**БАЗА:**\n",
        "\n",
        "- **Обработка исключений** позволяет перехватывать и обрабатывать ошибки, возникающие при выполнении программы, предотвращая её аварийное завершение.\n",
        "- **Работа с файлами** - важный навык для чтения, записи и обработки текстовой информации в Python.\n",
        "\n",
        "---"
      ]
    },
    {
      "cell_type": "markdown",
      "id": "2478deca",
      "metadata": {
        "id": "2478deca"
      },
      "source": [
        "## **I. Обработка исключений**"
      ]
    },
    {
      "cell_type": "markdown",
      "id": "0ab0b851",
      "metadata": {
        "id": "0ab0b851"
      },
      "source": [
        "### **Пункт №1. Обработка некорректного индекса (IndexError)**"
      ]
    },
    {
      "cell_type": "markdown",
      "id": "46e69e1f",
      "metadata": {
        "id": "46e69e1f"
      },
      "source": [
        "Создайте список из нескольких элементов (например, [10, 20, 30]). Попросите пользователя ввести индекс элемента, который нужно вывести. Если пользователь введёт индекс, выходящий за границы списка, перехватите IndexError и сообщите об этом.\n",
        "\n",
        "**ОБЯЗАТЕЛЬНО:**\n",
        "- Создайте список из минимум 5 элементов\n",
        "- Покажите содержимое списка перед работой\n",
        "- Протестируйте минимум 4 случая (корректный индекс, отрицательный, слишком большой, нечисловое значение)"
      ]
    },
    {
      "cell_type": "code",
      "execution_count": null,
      "id": "724c5954",
      "metadata": {
        "id": "724c5954",
        "colab": {
          "base_uri": "https://localhost:8080/"
        },
        "outputId": "f020e138-cdb4-4265-f54c-bfe02f0c5fb6"
      },
      "outputs": [
        {
          "output_type": "stream",
          "name": "stdout",
          "text": [
            "содержимое списка [10, 20, 30, 40, 50]\n",
            "-1\n",
            "Элемент в индексом -1: 50\n"
          ]
        }
      ],
      "source": [
        "# Ваш код и демонстрация работы\n",
        "my_list = [10,20,30,40,50]\n",
        "print(\"содержимое списка\", my_list)\n",
        "try:\n",
        "  index = input()\n",
        "  index = int(index)\n",
        "  el = my_list[index]\n",
        "  print(f\"Элемент в индексом {index}: {el}\")\n",
        "except ValueError:\n",
        "  print('Ошибка: Введено не число')\n",
        "except IndexError:\n",
        "  print('Ошибка: Индекс {index} выходит за границы списка')"
      ]
    },
    {
      "cell_type": "markdown",
      "id": "7ac84eec",
      "metadata": {
        "id": "7ac84eec"
      },
      "source": [
        "---"
      ]
    },
    {
      "cell_type": "markdown",
      "id": "f8bfb6e1",
      "metadata": {
        "id": "f8bfb6e1"
      },
      "source": [
        "### **Пункт №2. Обработка исключений в цикле**"
      ]
    },
    {
      "cell_type": "markdown",
      "id": "63c3b706",
      "metadata": {
        "id": "63c3b706"
      },
      "source": [
        "Напишите программу, которая запрашивает у пользователя числа и добавляет их в список.\n",
        "- Если пользователь вводит некорректные данные, программа должна выводить сообщение об ошибке и продолжать работу.\n",
        "- Для выхода из программы пользователь должен ввести \"стоп\".\n",
        "\n",
        "**ОБЯЗАТЕЛЬНО:**\n",
        "- Покажите процесс ввода минимум 7 значений (включая ошибочные)\n",
        "- Выведите финальный список и статистику (сколько чисел введено успешно, сколько ошибок)"
      ]
    },
    {
      "cell_type": "markdown",
      "source": [
        "\n",
        "\n",
        "```\n",
        "# Пример:\n",
        "# Введите число: 10\n",
        "# Введите число: текст (Ошибка: это не число)\n",
        "# Введите число: стоп\n",
        "# Итоговый список: [10]\n",
        "```\n",
        "\n"
      ],
      "metadata": {
        "id": "aiWaEPOuoHDS"
      },
      "id": "aiWaEPOuoHDS"
    },
    {
      "cell_type": "code",
      "execution_count": null,
      "id": "31448e09",
      "metadata": {
        "id": "31448e09",
        "colab": {
          "base_uri": "https://localhost:8080/"
        },
        "outputId": "80a13c9c-1693-47a3-e999-b98943dc8204"
      },
      "outputs": [
        {
          "output_type": "stream",
          "name": "stdout",
          "text": [
            "Программа для ввода чисел. Для завершения введите 'стоп'.\n",
            "10\n",
            "Число 10 добавлено в список.\n",
            "25.5\n",
            "Число 25.5 добавлено в список.\n",
            "яблоко\n",
            "Ошибка: 'яблоко' - это не число\n",
            "-15\n",
            "Число -15 добавлено в список.\n",
            "3.14\n",
            "Число 3.14 добавлено в список.\n",
            "100\n",
            "Число 100 добавлено в список.\n",
            "аваыфа\n",
            "Ошибка: 'аваыфа' - это не число\n",
            "56\n",
            "Число 56 добавлено в список.\n",
            "стоп\n",
            "Итоговый список: [10, 25.5, -15, 3.14, 100, 56]\n",
            "Успешно введено чисел: 6\n",
            "Количество ошибок: 2\n",
            "Всего попыток ввода: 8\n"
          ]
        }
      ],
      "source": [
        "# Ваш код и демонстрация работы\n",
        "numbers = []\n",
        "success_count = 0\n",
        "error = 0\n",
        "print(\"Программа для ввода чисел. Для завершения введите 'стоп'.\")\n",
        "while True:\n",
        "  user = input()\n",
        "  if user == 'стоп':\n",
        "    break\n",
        "  try:\n",
        "    if '.' in user:\n",
        "      number = float(user)\n",
        "    else:\n",
        "      number = int(user)\n",
        "    numbers.append(number)\n",
        "    success_count += 1\n",
        "    print(f\"Число {number} добавлено в список.\")\n",
        "\n",
        "  except ValueError:\n",
        "      print(f\"Ошибка: '{user}' - это не число\")\n",
        "      error += 1\n",
        "print(f\"Итоговый список: {numbers}\")\n",
        "print(f\"Успешно введено чисел: {success_count}\")\n",
        "print(f\"Количество ошибок: {error}\")\n",
        "print(f\"Всего попыток ввода: {success_count + error}\")\n",
        "\n",
        "\n",
        "\n",
        "\n",
        "\n"
      ]
    },
    {
      "cell_type": "markdown",
      "metadata": {
        "id": "Yv-FNYTEp0vV"
      },
      "source": [
        "---"
      ],
      "id": "Yv-FNYTEp0vV"
    },
    {
      "cell_type": "markdown",
      "id": "5971f85d",
      "metadata": {
        "id": "5971f85d"
      },
      "source": [
        "### **Пункт №3**"
      ]
    },
    {
      "cell_type": "markdown",
      "id": "b1457074",
      "metadata": {
        "id": "b1457074"
      },
      "source": [
        "Создайте функцию `get_list_element(lst, index)`, которая безопасно извлекает элемент списка по индексу с использованием блоков `try`, `except`, `else` и `finally`.\n",
        "\n",
        "Функция должна:\n",
        "- Обрабатывать выход за пределы списка\n",
        "- Обрабатывать некорректный тип индекса\n",
        "- Выводить сообщение о попытке доступа в блоке `finally`\n",
        "\n",
        "**ОБЯЗАТЕЛЬНО:**\n",
        "- Выведите результаты для минимум 4 различных случаев (успешный доступ, выход за границы, отрицательный индекс, нечисловой индекс)\n",
        "- Покажите, что блок `finally` выполняется всегда\n",
        "\n",
        "```python\n",
        "# Пример использования:\n",
        "my_list = [1, 2, 3, 4, 5]\n",
        "get_list_element(my_list, 2)   # Вывод: \"Элемент: 3\", \"Попытка доступа завершена\"\n",
        "get_list_element(my_list, 10)  # Вывод: \"Индекс вне диапазона\", \"Попытка доступа завершена\"\n",
        "```"
      ]
    },
    {
      "cell_type": "code",
      "execution_count": null,
      "id": "1c067cf3",
      "metadata": {
        "id": "1c067cf3",
        "colab": {
          "base_uri": "https://localhost:8080/"
        },
        "outputId": "a677cdbf-4ff6-48db-9f8c-4f02f83c0ef5"
      },
      "outputs": [
        {
          "output_type": "stream",
          "name": "stdout",
          "text": [
            "Список для тестирования: [10, 20, 30, 40, 50]\n",
            "1. Успешный доступ:\n",
            "Элемент по индексу 2: 30\n",
            "Попытка завершена\n",
            "2. Выход за границы:\n",
            "Ошибка: Индекс 10 выходит за границы списка!\n",
            "Попытка завершена\n",
            "3. Отрицательный индекс:\n",
            "Элемент по индексу -1: 50\n",
            "Попытка завершена\n",
            "4. Нечисловой индекс:\n",
            "Ошибка: Индекс 'abc' имеет некорректный тип (str)!\n",
            "Попытка завершена\n"
          ]
        }
      ],
      "source": [
        "# Ваш код и демонстрация работы\n",
        "def get_list_element(lst, index):\n",
        "    try:\n",
        "        element = lst[index]\n",
        "    except IndexError:\n",
        "        print(f\"Ошибка: Индекс {index} выходит за границы списка!\")\n",
        "    except TypeError:\n",
        "        print(f\"Ошибка: Индекс '{index}' имеет некорректный тип ({type(index).__name__})!\")\n",
        "    else:\n",
        "        print(f\"Элемент по индексу {index}: {element}\")\n",
        "        return element\n",
        "    finally:\n",
        "        print(\"Попытка завершена\")\n",
        "\n",
        "my_list = [10, 20, 30, 40, 50]\n",
        "\n",
        "print(\"Список для тестирования:\", my_list)\n",
        "print(\"1. Успешный доступ:\")\n",
        "get_list_element(my_list, 2)\n",
        "print(\"2. Выход за границы:\")\n",
        "get_list_element(my_list, 10)\n",
        "print(\"3. Отрицательный индекс:\")\n",
        "get_list_element(my_list, -1)\n",
        "print(\"4. Нечисловой индекс:\")\n",
        "get_list_element(my_list, \"abc\")"
      ]
    },
    {
      "cell_type": "markdown",
      "id": "b5bb39c7",
      "metadata": {
        "id": "b5bb39c7"
      },
      "source": [
        "---"
      ]
    },
    {
      "cell_type": "markdown",
      "id": "b0972d59",
      "metadata": {
        "id": "b0972d59"
      },
      "source": [
        "## **II. Работа с текстовыми файлами**"
      ]
    },
    {
      "cell_type": "markdown",
      "id": "35729435",
      "metadata": {
        "id": "35729435"
      },
      "source": [
        "### **Пункт №1. Запись в файл**"
      ]
    },
    {
      "cell_type": "markdown",
      "id": "3121365f",
      "metadata": {
        "id": "3121365f"
      },
      "source": [
        "Напишите программу, которая запрашивает у пользователя строку и записывает её в файл output.txt в режиме дозаписи.\n",
        "\n",
        "**ОБЯЗАТЕЛЬНО:**\n",
        "- Запросите у пользователя минимум 3 строки\n",
        "- Покажите содержимое файла после записи"
      ]
    },
    {
      "cell_type": "code",
      "execution_count": null,
      "id": "cbce6c5f",
      "metadata": {
        "id": "cbce6c5f",
        "colab": {
          "base_uri": "https://localhost:8080/"
        },
        "outputId": "42983465-32b1-47d4-e37e-0251b625e4c8"
      },
      "outputs": [
        {
          "output_type": "stream",
          "name": "stdout",
          "text": [
            "Введите строку 1: первая строка\n",
            "Введите строку 2: вторая строка\n",
            "Введите строку 3: третья строка\n",
            "Введите строку 4: четвёртая строка\n",
            "Введите строку 5: пятая строка\n",
            "\n",
            "Содержимое файла output.txt:\n",
            "первая строка\n",
            "вторая строка\n",
            "третья строка\n",
            "четвёртая строка\n",
            "пятая строка\n",
            "\n"
          ]
        }
      ],
      "source": [
        "# Ваш код и демонстрация работы\n",
        "with open('output.txt', 'a', encoding='utf-8') as file:\n",
        "    for i in range(5):\n",
        "        user_input = input(f\"Введите строку {i+1}: \")\n",
        "        file.write(user_input + '\\n')\n",
        "\n",
        "print(\"\\nСодержимое файла output.txt:\")\n",
        "with open('output.txt', 'r', encoding='utf-8') as file:\n",
        "    content = file.read()\n",
        "    print(content)"
      ]
    },
    {
      "cell_type": "markdown",
      "id": "361b3d2b",
      "metadata": {
        "id": "361b3d2b"
      },
      "source": [
        "---"
      ]
    },
    {
      "cell_type": "markdown",
      "id": "cce864b4",
      "metadata": {
        "id": "cce864b4"
      },
      "source": [
        "### **Пункт №2. Чтение из файла**"
      ]
    },
    {
      "cell_type": "markdown",
      "id": "4fc83b82",
      "metadata": {
        "id": "4fc83b82"
      },
      "source": [
        "Напишите программу, которая открывает файл output.txt и выводит его содержимое на экран.\n",
        "\n",
        "**ОБЯЗАТЕЛЬНО:**\n",
        "- Создайте файл с минимум 5 строками текста\n",
        "- Покажите содержимое файла целиком\n",
        "- Обработайте случай отсутствующего файла"
      ]
    },
    {
      "cell_type": "code",
      "execution_count": null,
      "id": "df27a986",
      "metadata": {
        "id": "df27a986",
        "colab": {
          "base_uri": "https://localhost:8080/"
        },
        "outputId": "d635748d-e465-4d6f-9085-2ea2669f8bae"
      },
      "outputs": [
        {
          "output_type": "stream",
          "name": "stdout",
          "text": [
            "Содержимое файла output.txt:\n",
            "Первая строка текста\n",
            "Вторая строка текста\n",
            "Третья строка текста\n",
            "Четвертая строка текста\n",
            "Пятая строка текста\n"
          ]
        }
      ],
      "source": [
        "try:\n",
        "    with open('output.txt', 'r', encoding='utf-8') as file:\n",
        "        content = file.read()\n",
        "        print(\"Содержимое файла output.txt:\")\n",
        "        print(content)\n",
        "except FileNotFoundError:\n",
        "    print(\"Ошибка: Файл output.txt не найден!\")\n",
        "    print(\"Создаем новый файл\")\n",
        "    with open('output.txt', 'w', encoding='utf-8') as file:\n",
        "        lines = [\n",
        "            \"Первая строка текста\",\n",
        "            \"Вторая строка текста\",\n",
        "            \"Третья строка текста\",\n",
        "            \"Четвертая строка текста\",\n",
        "            \"Пятая строка текста\"\n",
        "        ]\n",
        "        file.write('\\n'.join(lines))\n",
        "    print(\"Файл создан успешно!\")\n",
        "    with open('output.txt', 'r', encoding='utf-8') as file:\n",
        "        content = file.read()\n",
        "        print(\"Содержимое файла:\")\n",
        "        print(content)"
      ]
    },
    {
      "cell_type": "markdown",
      "id": "2be296a2",
      "metadata": {
        "id": "2be296a2"
      },
      "source": [
        "---"
      ]
    },
    {
      "cell_type": "markdown",
      "id": "045696ba",
      "metadata": {
        "id": "045696ba"
      },
      "source": [
        "### **Пункт №3. Подсчет строк в файле**"
      ]
    },
    {
      "cell_type": "markdown",
      "id": "570ac3e9",
      "metadata": {
        "id": "570ac3e9"
      },
      "source": [
        "Напишите программу, которая открывает файл output.txt и подсчитывает количество строк в нём.\n",
        "\n",
        "**ОБЯЗАТЕЛЬНО:**\n",
        "- Создайте тестовый файл с известным количеством строк (минимум 10)\n",
        "- Покажите первые 3 строки файла\n",
        "- Выведите общее количество строк\n",
        "- Выведите количество непустых строк"
      ]
    },
    {
      "cell_type": "code",
      "execution_count": 28,
      "id": "84aa205a",
      "metadata": {
        "id": "84aa205a",
        "colab": {
          "base_uri": "https://localhost:8080/"
        },
        "outputId": "84aa998c-0c39-4475-ee82-cd3aab839e7c"
      },
      "outputs": [
        {
          "output_type": "stream",
          "name": "stdout",
          "text": [
            "Первые 3 строки файла:\n",
            "1: Первая строка\n",
            "2: Вторая строка\n",
            "3: Третья строка\n",
            "Общее количество строк: 10\n",
            "Количество непустых строк: 8\n"
          ]
        }
      ],
      "source": [
        "# Ваш код и демонстрация работы\n",
        "with open('output.txt', 'w', encoding='utf-8') as file:\n",
        "    lines = [\n",
        "        \"Первая строка\",\n",
        "        \"Вторая строка\",\n",
        "        \"Третья строка\",\n",
        "        \"\",\n",
        "        \"Пятая строка\",\n",
        "        \"Шестая строка\",\n",
        "        \"\",\n",
        "        \"Восьмая строка\",\n",
        "        \"Девятая строка\",\n",
        "        \"Десятая строка\"\n",
        "    ]\n",
        "    file.write('\\n'.join(lines))\n",
        "try:\n",
        "    with open('output.txt', 'r', encoding='utf-8') as file:\n",
        "        lines = file.readlines()\n",
        "\n",
        "        print(\"Первые 3 строки файла:\")\n",
        "        for i in range(3):\n",
        "            print(f\"{i+1}: {lines[i].strip()}\")\n",
        "\n",
        "        total_lines = len(lines)\n",
        "        non_empty_lines = len([line for line in lines if line.strip()])\n",
        "\n",
        "        print(f\"Общее количество строк: {total_lines}\")\n",
        "        print(f\"Количество непустых строк: {non_empty_lines}\")\n",
        "\n",
        "except FileNotFoundError:\n",
        "    print(\"Ошибка: Файл output.txt не найден!\")"
      ]
    },
    {
      "cell_type": "markdown",
      "id": "94c6dcb0",
      "metadata": {
        "id": "94c6dcb0"
      },
      "source": [
        "---"
      ]
    },
    {
      "cell_type": "markdown",
      "id": "56f2a74e",
      "metadata": {
        "id": "56f2a74e"
      },
      "source": [
        "### **Пункт №4. Копирование содержимого файла**"
      ]
    },
    {
      "cell_type": "markdown",
      "id": "ed736046",
      "metadata": {
        "id": "ed736046"
      },
      "source": [
        "Напишите программу, которая копирует содержимое файла input.txt в файл output.txt.\n",
        "\n",
        "**ОБЯЗАТЕЛЬНО:**\n",
        "- Создайте исходный файл с тестовым содержимым (минимум 5 строк)\n",
        "- Покажите содержимое исходного файла\n",
        "- Выполните копирование\n",
        "- Покажите содержимое скопированного файла\n",
        "- Обработайте случай отсутствия исходного файла"
      ]
    },
    {
      "cell_type": "code",
      "execution_count": 29,
      "id": "31bd8a06",
      "metadata": {
        "id": "31bd8a06",
        "colab": {
          "base_uri": "https://localhost:8080/"
        },
        "outputId": "859d9090-8af9-4765-9e8c-f925160f33a4"
      },
      "outputs": [
        {
          "output_type": "stream",
          "name": "stdout",
          "text": [
            "Содержимое исходного файла input.txt:\n",
            "========================================\n",
            "Это первая строка исходного файла\n",
            "А это вторая строка\n",
            "Третья строка с некоторым текстом\n",
            "Четвертая строка для тестирования\n",
            "И наконец пятая строка файла input.txt\n",
            "========================================\n",
            "\n",
            "Содержимое скопированного файла output.txt:\n",
            "========================================\n",
            "Это первая строка исходного файла\n",
            "А это вторая строка\n",
            "Третья строка с некоторым текстом\n",
            "Четвертая строка для тестирования\n",
            "И наконец пятая строка файла input.txt\n",
            "========================================\n"
          ]
        }
      ],
      "source": [
        "# Ваш код и демонстрация работы\n",
        "with open('input.txt', 'w', encoding='utf-8') as file:\n",
        "    lines = [\n",
        "        \"Это первая строка исходного файла\",\n",
        "        \"А это вторая строка\",\n",
        "        \"Третья строка с некоторым текстом\",\n",
        "        \"Четвертая строка для тестирования\",\n",
        "        \"И наконец пятая строка файла input.txt\"\n",
        "    ]\n",
        "    file.write('\\n'.join(lines))\n",
        "print(\"Содержимое исходного файла input.txt:\")\n",
        "print(\"=\" * 40)\n",
        "try:\n",
        "    with open('input.txt', 'r', encoding='utf-8') as file:\n",
        "        content = file.read()\n",
        "        print(content)\n",
        "except FileNotFoundError:\n",
        "    print(\"Файл input.txt не найден!\")\n",
        "print(\"=\" * 40)\n",
        "# Копирование\n",
        "try:\n",
        "    with open('input.txt', 'r', encoding='utf-8') as source:\n",
        "        with open('output.txt', 'w', encoding='utf-8') as destination:\n",
        "            destination.write(source.read())\n",
        "\n",
        "    print(\"\\nСодержимое скопированного файла output.txt:\")\n",
        "    print(\"=\" * 40)\n",
        "    with open('output.txt', 'r', encoding='utf-8') as file:\n",
        "        content = file.read()\n",
        "        print(content)\n",
        "    print(\"=\" * 40)\n",
        "except FileNotFoundError:\n",
        "    print(\"\\nОшибка: Файл input.txt не найден!\")\n",
        "    print(\"Убедитесь, что файл input.txt существует в текущей директории.\")"
      ]
    },
    {
      "cell_type": "markdown",
      "id": "2f7c8ee5",
      "metadata": {
        "id": "2f7c8ee5"
      },
      "source": [
        "---"
      ]
    },
    {
      "cell_type": "markdown",
      "id": "70ee398b",
      "metadata": {
        "id": "70ee398b"
      },
      "source": [
        "### **Пункт №5. Поиск слова в файле**"
      ]
    },
    {
      "cell_type": "markdown",
      "id": "c67f8987",
      "metadata": {
        "id": "c67f8987"
      },
      "source": [
        "Напишите программу, которая открывает файл output.txt и проверяет, содержится ли в нём слово, введённое пользователем.\n",
        "\n",
        "**ОБЯЗАТЕЛЬНО:**\n",
        "- Создайте файл с минимум 10 строками текста\n",
        "- Покажите содержимое файла\n",
        "- Протестируйте поиск минимум 5 различных слов\n",
        "- Выведите номера строк, где найдено слово\n",
        "- Покажите количество вхождений слова"
      ]
    },
    {
      "cell_type": "code",
      "execution_count": 31,
      "id": "d961bbf3",
      "metadata": {
        "id": "d961bbf3",
        "colab": {
          "base_uri": "https://localhost:8080/"
        },
        "outputId": "5e93d9ff-f913-4106-f219-9ad90626d8d6"
      },
      "outputs": [
        {
          "output_type": "stream",
          "name": "stdout",
          "text": [
            "Содержимое файла output.txt:\n",
            "Python - это мощный язык программирования\n",
            "Программирование на Python очень популярно\n",
            "Python используется в веб-разработке\n",
            "Также Python применяется в науке о данных\n",
            "Машинное обучение часто использует Python\n",
            "Python имеет простой и понятный синтаксис\n",
            "Библиотеки Python очень разнообразны\n",
            "Программисты любят Python за его читаемость\n",
            "Python поддерживает различные парадигмы программирования\n",
            "Изучение Python - это хорошее вложение в будущее\n",
            "\n",
            "Поиск слова: 'Python'\n",
            "Слово найдено в строках: [1, 2, 3, 4, 5, 6, 7, 8, 9, 10]\n",
            "Количество вхождений: 10\n",
            "\n",
            "Поиск слова: 'программирования'\n",
            "Слово найдено в строках: [1, 9]\n",
            "Количество вхождений: 2\n",
            "\n",
            "Поиск слова: 'данных'\n",
            "Слово найдено в строках: [4]\n",
            "Количество вхождений: 1\n",
            "\n",
            "Поиск слова: 'синтаксис'\n",
            "Слово найдено в строках: [6]\n",
            "Количество вхождений: 1\n",
            "\n",
            "Поиск слова: 'JavaScript'\n",
            "Слово не найдено в файле\n"
          ]
        }
      ],
      "source": [
        "# Ваш код и демонстрация работы\n",
        "with open('output.txt', 'w', encoding='utf-8') as file:\n",
        "    lines = [\n",
        "        \"Python - это мощный язык программирования\",\n",
        "        \"Программирование на Python очень популярно\",\n",
        "        \"Python используется в веб-разработке\",\n",
        "        \"Также Python применяется в науке о данных\",\n",
        "        \"Машинное обучение часто использует Python\",\n",
        "        \"Python имеет простой и понятный синтаксис\",\n",
        "        \"Библиотеки Python очень разнообразны\",\n",
        "        \"Программисты любят Python за его читаемость\",\n",
        "        \"Python поддерживает различные парадигмы программирования\",\n",
        "        \"Изучение Python - это хорошее вложение в будущее\"\n",
        "    ]\n",
        "    file.write('\\n'.join(lines))\n",
        "print(\"Содержимое файла output.txt:\")\n",
        "with open('output.txt', 'r', encoding='utf-8') as file:\n",
        "    content = file.read()\n",
        "    print(content)\n",
        "\n",
        "def search_word_in_file(filename, word):\n",
        "    try:\n",
        "        with open(filename, 'r', encoding='utf-8') as file:\n",
        "            lines = file.readlines()\n",
        "\n",
        "        found_lines = []\n",
        "        count = 0\n",
        "\n",
        "        for i, line in enumerate(lines, 1):\n",
        "            if word.lower() in line.lower():\n",
        "                found_lines.append(i)\n",
        "                count += line.lower().count(word.lower())\n",
        "\n",
        "        return found_lines, count\n",
        "\n",
        "    except FileNotFoundError:\n",
        "        print(f\"Ошибка: Файл {filename} не найден!\")\n",
        "        return [], 0\n",
        "words_to_search = [\"Python\", \"программирования\", \"данных\", \"синтаксис\", \"JavaScript\"]\n",
        "\n",
        "for word in words_to_search:\n",
        "    print(f\"\\nПоиск слова: '{word}'\")\n",
        "\n",
        "    lines, count = search_word_in_file('output.txt', word)\n",
        "\n",
        "    if lines:\n",
        "        print(f\"Слово найдено в строках: {lines}\")\n",
        "        print(f\"Количество вхождений: {count}\")\n",
        "    else:\n",
        "        print(\"Слово не найдено в файле\")"
      ]
    },
    {
      "cell_type": "markdown",
      "id": "8d69c77a",
      "metadata": {
        "id": "8d69c77a"
      },
      "source": [
        "---"
      ]
    },
    {
      "cell_type": "markdown",
      "id": "0079e067",
      "metadata": {
        "id": "0079e067"
      },
      "source": [
        "### **Пункт №6. Чтение файла с обработкой FileNotFoundError**"
      ]
    },
    {
      "cell_type": "markdown",
      "id": "c3d27312",
      "metadata": {
        "id": "c3d27312"
      },
      "source": [
        "Напишите программу, которая запрашивает у пользователя имя файла и пытается открыть его. Если файла не существует, перехватите FileNotFoundError и выведите сообщение «Файл не найден!».\n",
        "\n",
        "**ОБЯЗАТЕЛЬНО:**\n",
        "- Протестируйте с существующим файлом\n",
        "- Протестируйте с несуществующим файлом\n",
        "- Покажите содержимое существующего файла"
      ]
    },
    {
      "cell_type": "code",
      "execution_count": 33,
      "id": "0c262bd2",
      "metadata": {
        "id": "0c262bd2",
        "colab": {
          "base_uri": "https://localhost:8080/"
        },
        "outputId": "90ec5a91-ef01-4a75-f2be-80f931f1719e"
      },
      "outputs": [
        {
          "output_type": "stream",
          "name": "stdout",
          "text": [
            "Демонстрация работы программы\n",
            "Введите имя файла для открытия: example.txt\n",
            "\n",
            "Содержимое файла 'example.txt':\n",
            "Это тестовый файл.\n",
            "Он содержит несколько строк текста.\n",
            "Мы используем его для демонстрации работы программы.\n",
            "Python - прекрасный язык программирования!\n",
            "\n"
          ]
        }
      ],
      "source": [
        "# Ваш код и демонстрация работы\n",
        "with open('example.txt', 'w', encoding='utf-8') as file:\n",
        "    file.write(\"Это тестовый файл.\\n\")\n",
        "    file.write(\"Он содержит несколько строк текста.\\n\")\n",
        "    file.write(\"Мы используем его для демонстрации работы программы.\\n\")\n",
        "    file.write(\"Python - прекрасный язык программирования!\\n\")\n",
        "\n",
        "print(\"Демонстрация работы программы\")\n",
        "filename = input(\"Введите имя файла для открытия: \")\n",
        "\n",
        "try:\n",
        "    with open(filename, 'r', encoding='utf-8') as file:\n",
        "        content = file.read()\n",
        "        print(f\"\\nСодержимое файла '{filename}':\")\n",
        "        print(content)\n",
        "\n",
        "except FileNotFoundError:\n",
        "    print(f\"\\nФайл '{filename}' не найден!\")"
      ]
    },
    {
      "cell_type": "markdown",
      "id": "c3258b46",
      "metadata": {
        "id": "c3258b46"
      },
      "source": [
        "---"
      ]
    },
    {
      "cell_type": "markdown",
      "id": "02e0767b",
      "metadata": {
        "id": "02e0767b"
      },
      "source": [
        "### **Пункт №7. Подсчет статистики файла**"
      ]
    },
    {
      "cell_type": "markdown",
      "id": "1c33b711",
      "metadata": {
        "id": "1c33b711"
      },
      "source": [
        "Напишите функцию `file_statistics(filename)`, которая читает текстовый файл и возвращает словарь со статистикой:\n",
        "- Количество строк\n",
        "- Количество слов\n",
        "- Количество символов (с пробелами и без)\n",
        "\n",
        "**ОБЯЗАТЕЛЬНО:**\n",
        "- Создайте тестовый файл с минимум 5 строками текста\n",
        "- Выведите содержимое файла ДО обработки\n",
        "- Выведите полученную статистику\n",
        "- Обработайте случай несуществующего файла\n",
        "\n",
        "```python\n",
        "# Создание тестового файла\n",
        "test_content = \"\"\"Первая строка текста\n",
        "Вторая строка с большим количеством слов\n",
        "Третья строка\n",
        "Четвертая строка для теста\n",
        "Пятая и последняя строка\"\"\"\n",
        "\n",
        "# Сохраните в файл и продемонстрируйте работу\n",
        "```"
      ]
    },
    {
      "cell_type": "code",
      "execution_count": null,
      "id": "43bfd6b8",
      "metadata": {
        "id": "43bfd6b8"
      },
      "outputs": [],
      "source": [
        "# Ваш код и демонстрация работы\n",
        "def file_statistics(filename):\n",
        "    try:\n",
        "        with open(filename, 'r', encoding='utf-8') as file:\n",
        "            content = file.read()\n",
        "\n",
        "        lines = content.split('\\n')\n",
        "        words = content.split()\n",
        "\n",
        "        statistics = {\n",
        "            'lines': len(lines),\n",
        "            'words': len(words),\n",
        "            'characters_with_spaces': len(content),\n",
        "            'characters_without_spaces': len(content.replace(' ', '').replace('\\n', ''))\n",
        "        }\n",
        "\n",
        "        return statistics\n",
        "\n",
        "    except FileNotFoundError:\n",
        "        print(f\"Ошибка: Файл '{filename}' не найден!\")\n",
        "        return None\n",
        "\n",
        "test_content = \"\"\"Первая строка текста\n",
        "Вторая строка с большим количеством слов\n",
        "Третья строка\n",
        "Четвертая строка для теста\n",
        "Пятая и последняя строка\"\"\"\n",
        "\n",
        "with open('test_file.txt', 'w', encoding='utf-8') as file:\n",
        "    file.write(test_content)\n",
        "\n",
        "print(\"Содержимое файла ДО обработки:\")\n",
        "print(\"=\" * 40)\n",
        "with open('test_file.txt', 'r', encoding='utf-8') as file:\n",
        "    content = file.read()\n",
        "    print(content)\n",
        "print(\"=\" * 40)\n",
        "stats = file_statistics('test_file.txt')\n",
        "\n",
        "if stats:\n",
        "    print(\"\\nСтатистика файла:\")\n",
        "    print(f\"Количество строк: {stats['lines']}\")\n",
        "    print(f\"Количество слов: {stats['words']}\")\n",
        "    print(f\"Количество символов (с пробелами): {stats['characters_with_spaces']}\")\n",
        "    print(f\"Количество символов (без пробелов): {stats['characters_without_spaces']}\")\n",
        "\n",
        "# Тестируем с несуществующим файлом\n",
        "print(\"Тест с несуществующим файлом:\")\n",
        "file_statistics('nonexistent_file.txt')"
      ]
    },
    {
      "cell_type": "markdown",
      "id": "903281dd",
      "metadata": {
        "id": "903281dd"
      },
      "source": [
        "---"
      ]
    },
    {
      "cell_type": "markdown",
      "id": "ad8b4ae4",
      "metadata": {
        "id": "ad8b4ae4"
      },
      "source": [
        "### **Пункт №8. Поиск и замена в файле**"
      ]
    },
    {
      "cell_type": "markdown",
      "id": "e5230d0a",
      "metadata": {
        "id": "e5230d0a"
      },
      "source": [
        "Напишите функцию `replace_in_file(filename, old_text, new_text)`, которая заменяет все вхождения `old_text` на `new_text` в файле и сохраняет результат в новый файл с префиксом \"modified_\".\n",
        "\n",
        "**ОБЯЗАТЕЛЬНО:**\n",
        "- Создайте файл с текстом, содержащим минимум 3 вхождения заменяемого слова\n",
        "- Выведите содержимое файла ДО замены\n",
        "- Выполните замену\n",
        "- Выведите содержимое файла ПОСЛЕ замены\n",
        "- Покажите количество произведенных замен"
      ]
    },
    {
      "cell_type": "code",
      "execution_count": 36,
      "id": "64a05e35",
      "metadata": {
        "id": "64a05e35",
        "colab": {
          "base_uri": "https://localhost:8080/"
        },
        "outputId": "84e565e9-bd12-4934-b237-1e82fa1c6864"
      },
      "outputs": [
        {
          "output_type": "stream",
          "name": "stdout",
          "text": [
            "Содержимое файла ДО замены:\n",
            "==================================================\n",
            "\"Python - это мощный язык программирования\",\n",
            "        \"Программирование на Python очень популярно\",\n",
            "        \"Python используется в веб-разработке\",\n",
            "        \"Также Python применяется в науке о данных\",\n",
            "        \"Машинное обучение часто использует Python\",\n",
            "==================================================\n",
            "\n",
            "Заменено вхождений: 5\n",
            "\n",
            "Содержимое файла ПОСЛЕ замены:\n",
            "==================================================\n",
            "\"JavaScript - это мощный язык программирования\",\n",
            "        \"Программирование на JavaScript очень популярно\",\n",
            "        \"JavaScript используется в веб-разработке\",\n",
            "        \"Также JavaScript применяется в науке о данных\",\n",
            "        \"Машинное обучение часто использует JavaScript\",\n",
            "==================================================\n"
          ]
        }
      ],
      "source": [
        "def replace_in_file(filename, old_text, new_text):\n",
        "    try:\n",
        "        with open(filename, 'r', encoding='utf-8') as file:\n",
        "            content = file.read()\n",
        "\n",
        "        new_content, count = content.replace(old_text, new_text), content.count(old_text)\n",
        "\n",
        "        new_filename = f\"modified_{filename}\"\n",
        "\n",
        "        with open(new_filename, 'w', encoding='utf-8') as file:\n",
        "            file.write(new_content)\n",
        "\n",
        "        return count\n",
        "\n",
        "    except FileNotFoundError:\n",
        "        print(f\"Ошибка: Файл '{filename}' не найден!\")\n",
        "        return 0\n",
        "test_content = \"\"\"\"Python - это мощный язык программирования\",\n",
        "        \"Программирование на Python очень популярно\",\n",
        "        \"Python используется в веб-разработке\",\n",
        "        \"Также Python применяется в науке о данных\",\n",
        "        \"Машинное обучение часто использует Python\",\"\"\"\n",
        "\n",
        "with open('programming.txt', 'w', encoding='utf-8') as file:\n",
        "    file.write(test_content)\n",
        "\n",
        "print(\"Содержимое файла ДО замены:\")\n",
        "print(\"=\" * 50)\n",
        "with open('programming.txt', 'r', encoding='utf-8') as file:\n",
        "    print(file.read())\n",
        "print(\"=\" * 50)\n",
        "\n",
        "old_word = \"Python\"\n",
        "new_word = \"JavaScript\"\n",
        "replace_count = replace_in_file('programming.txt', old_word, new_word)\n",
        "\n",
        "print(f\"\\nЗаменено вхождений: {replace_count}\")\n",
        "\n",
        "print(\"\\nСодержимое файла ПОСЛЕ замены:\")\n",
        "print(\"=\" * 50)\n",
        "with open('modified_programming.txt', 'r', encoding='utf-8') as file:\n",
        "    print(file.read())\n",
        "print(\"=\" * 50)"
      ]
    },
    {
      "cell_type": "markdown",
      "id": "f77b0568",
      "metadata": {
        "id": "f77b0568"
      },
      "source": [
        "---"
      ]
    },
    {
      "cell_type": "markdown",
      "id": "79a081b1",
      "metadata": {
        "id": "79a081b1"
      },
      "source": [
        "### **Пункт №9. Объединение файлов**"
      ]
    },
    {
      "cell_type": "markdown",
      "id": "599cee3c",
      "metadata": {
        "id": "599cee3c"
      },
      "source": [
        "Создайте функцию `merge_files(file_list, output_file)`, которая объединяет содержимое нескольких текстовых файлов в один, добавляя после каждого разделитель.\n",
        "\n",
        "**ОБЯЗАТЕЛЬНО:**\n",
        "- Создайте минимум 3 файла с разным содержимым\n",
        "- Выведите содержимое КАЖДОГО исходного файла\n",
        "- Выполните объединение\n",
        "- Выведите содержимое результирующего файла"
      ]
    },
    {
      "cell_type": "code",
      "execution_count": 40,
      "id": "581b5868",
      "metadata": {
        "id": "581b5868",
        "colab": {
          "base_uri": "https://localhost:8080/"
        },
        "outputId": "0e96ea91-4d94-4e31-962c-4c8c3ade4d6b"
      },
      "outputs": [
        {
          "output_type": "stream",
          "name": "stdout",
          "text": [
            "СОДЕРЖИМОЕ ИСХОДНЫХ ФАЙЛОВ:\n",
            "\n",
            "Файл 1: file1.txt\n",
            "Первый файл\n",
            "Содержание первого файла\n",
            "Здесь три строки текста\n",
            "\n",
            "Файл 2: file2.txt\n",
            "Второй файл\n",
            "Этот файл содержит информацию о программировании\n",
            "Python - язык программирования\n",
            "Используется для веб-разработки, анализа данных и автоматизации\n",
            "\n",
            "Файл 3: file3.txt\n",
            "Третий файл\n",
            "Финальный файл в нашем списке\n",
            "Содержит заключительные мысли\n",
            "О важности работы с файлами\n",
            "В программировании на Python\n",
            "\n",
            "ВЫПОЛНЕНИЕ ОБЪЕДИНЕНИЯ...\n",
            "\n",
            "Объединение завершено! Результат сохранён в 'merged_result.txt'\n",
            "\n",
            "СОДЕРЖИМОЕ РЕЗУЛЬТИРУЮЩЕГО ФАЙЛА:\n",
            "Первый файл\n",
            "Содержание первого файла\n",
            "Здесь три строки текста\n",
            "\n",
            "========================================\n",
            "Файл 1 завершен\n",
            "========================================\n",
            "\n",
            "Второй файл\n",
            "Этот файл содержит информацию о программировании\n",
            "Python - язык программирования\n",
            "Используется для веб-разработки, анализа данных и автоматизации\n",
            "\n",
            "========================================\n",
            "Файл 2 завершен\n",
            "========================================\n",
            "\n",
            "Третий файл\n",
            "Финальный файл в нашем списке\n",
            "Содержит заключительные мысли\n",
            "О важности работы с файлами\n",
            "В программировании на Python\n",
            "\n",
            "========================================\n",
            "Файл 3 завершен (последний)\n",
            "========================================\n"
          ]
        }
      ],
      "source": [
        "# Ваш код и демонстрация работы\n",
        "def merge_files(file_list, output_file):\n",
        "    try:\n",
        "        with open(output_file, 'w', encoding='utf-8') as outfile:\n",
        "            for i, filename in enumerate(file_list, 1):\n",
        "                try:\n",
        "                    with open(filename, 'r', encoding='utf-8') as infile:\n",
        "                        content = infile.read()\n",
        "                        outfile.write(content)\n",
        "                        if i < len(file_list):\n",
        "                            outfile.write(f\"\\n\\n{'=' * 40}\\nФайл {i} завершен\\n{'=' * 40}\\n\\n\")\n",
        "                        else:\n",
        "                            outfile.write(f\"\\n\\n{'=' * 40}\\nФайл {i} завершен (последний)\\n{'=' * 40}\")\n",
        "\n",
        "                except FileNotFoundError:\n",
        "                    print(f\"Ошибка: Файл '{filename}' не найден и пропущен!\")\n",
        "\n",
        "        print(f\"\\nОбъединение завершено! Результат сохранён в '{output_file}'\")\n",
        "        return True\n",
        "\n",
        "    except Exception as e:\n",
        "        print(f\"Ошибка при создании выходного файла: {e}\")\n",
        "        return False\n",
        "\n",
        "file1_content = \"\"\"Первый файл\n",
        "Содержание первого файла\n",
        "Здесь три строки текста\"\"\"\n",
        "\n",
        "file2_content = \"\"\"Второй файл\n",
        "Этот файл содержит информацию о программировании\n",
        "Python - язык программирования\n",
        "Используется для веб-разработки, анализа данных и автоматизации\"\"\"\n",
        "\n",
        "file3_content = \"\"\"Третий файл\n",
        "Финальный файл в нашем списке\n",
        "Содержит заключительные мысли\n",
        "О важности работы с файлами\n",
        "В программировании на Python\"\"\"\n",
        "\n",
        "files_to_merge = ['file1.txt', 'file2.txt', 'file3.txt']\n",
        "contents = [file1_content, file2_content, file3_content]\n",
        "\n",
        "for filename, content in zip(files_to_merge, contents):\n",
        "    with open(filename, 'w', encoding='utf-8') as file:\n",
        "        file.write(content)\n",
        "print(\"СОДЕРЖИМОЕ ИСХОДНЫХ ФАЙЛОВ:\")\n",
        "\n",
        "for i, filename in enumerate(files_to_merge, 1):\n",
        "    print(f\"\\nФайл {i}: {filename}\")\n",
        "    with open(filename, 'r', encoding='utf-8') as file:\n",
        "        print(file.read())\n",
        "print(\"\\nВЫПОЛНЕНИЕ ОБЪЕДИНЕНИЯ...\")\n",
        "merge_files(files_to_merge, 'merged_result.txt')\n",
        "\n",
        "print(\"\\nСОДЕРЖИМОЕ РЕЗУЛЬТИРУЮЩЕГО ФАЙЛА:\")\n",
        "\n",
        "with open('merged_result.txt', 'r', encoding='utf-8') as file:\n",
        "    print(file.read())\n"
      ]
    },
    {
      "cell_type": "markdown",
      "id": "eb866091",
      "metadata": {
        "id": "eb866091"
      },
      "source": [
        "---"
      ]
    }
  ],
  "metadata": {
    "colab": {
      "provenance": [],
      "include_colab_link": true
    },
    "language_info": {
      "name": "python"
    },
    "kernelspec": {
      "name": "python3",
      "display_name": "Python 3"
    }
  },
  "nbformat": 4,
  "nbformat_minor": 5
}